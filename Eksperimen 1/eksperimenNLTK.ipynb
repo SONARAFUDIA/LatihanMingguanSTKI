{
 "cells": [
  {
   "cell_type": "markdown",
   "id": "3ffa0ffc-1275-4431-98d8-062cb7036f44",
   "metadata": {},
   "source": [
    "# Eksperimen Repo 1\n",
    "\n",
    "## 1.1 Preprocessing NLTK"
   ]
  },
  {
   "cell_type": "code",
   "execution_count": 2,
   "id": "f5b4d61f-e7be-4b72-8e94-f7f1728e2cb8",
   "metadata": {},
   "outputs": [],
   "source": [
    "import nltk\n",
    "from nltk.tokenize import word_tokenize"
   ]
  },
  {
   "cell_type": "code",
   "execution_count": 3,
   "id": "8bc36768-225a-48c2-b1e8-f8e00fb8bb08",
   "metadata": {},
   "outputs": [],
   "source": [
    "def token_wrapper(text):\n",
    "    return word_tokenize(text)"
   ]
  },
  {
   "cell_type": "code",
   "execution_count": 4,
   "id": "57ceb762-4283-48cc-8f0d-55c38bb76fba",
   "metadata": {},
   "outputs": [
    {
     "data": {
      "text/plain": [
       "['Tell', 'me', 'Sona', ',', 'what', 'does', 'a', 'tokenizer', 'need', '?']"
      ]
     },
     "execution_count": 4,
     "metadata": {},
     "output_type": "execute_result"
    }
   ],
   "source": [
    "nltkText = token_wrapper(\"Tell me Sona, what does a tokenizer need?\")\n",
    "nltkText"
   ]
  },
  {
   "cell_type": "code",
   "execution_count": null,
   "id": "3cf569f0-f1fb-46a5-bace-9296fc5c49e1",
   "metadata": {},
   "outputs": [],
   "source": []
  }
 ],
 "metadata": {
  "kernelspec": {
   "display_name": "Python 3 (ipykernel)",
   "language": "python",
   "name": "python3"
  },
  "language_info": {
   "codemirror_mode": {
    "name": "ipython",
    "version": 3
   },
   "file_extension": ".py",
   "mimetype": "text/x-python",
   "name": "python",
   "nbconvert_exporter": "python",
   "pygments_lexer": "ipython3",
   "version": "3.13.7"
  }
 },
 "nbformat": 4,
 "nbformat_minor": 5
}

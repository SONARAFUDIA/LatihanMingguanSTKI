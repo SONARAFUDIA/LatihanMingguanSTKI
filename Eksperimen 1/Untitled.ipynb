{
 "cells": [
  {
   "cell_type": "markdown",
   "id": "3ffa0ffc-1275-4431-98d8-062cb7036f44",
   "metadata": {},
   "source": [
    "# Eksperimen Repo 1\n",
    "\n",
    "## 1.1 Preprocessing NLTK"
   ]
  },
  {
   "cell_type": "code",
   "execution_count": null,
   "id": "f5b4d61f-e7be-4b72-8e94-f7f1728e2cb8",
   "metadata": {},
   "outputs": [],
   "source": []
  }
 ],
 "metadata": {
  "kernelspec": {
   "display_name": "Python 3 (ipykernel)",
   "language": "python",
   "name": "python3"
  },
  "language_info": {
   "codemirror_mode": {
    "name": "ipython",
    "version": 3
   },
   "file_extension": ".py",
   "mimetype": "text/x-python",
   "name": "python",
   "nbconvert_exporter": "python",
   "pygments_lexer": "ipython3",
   "version": "3.13.7"
  }
 },
 "nbformat": 4,
 "nbformat_minor": 5
}
